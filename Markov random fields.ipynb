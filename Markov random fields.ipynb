{
 "cells": [
  {
   "cell_type": "code",
   "execution_count": null,
   "metadata": {},
   "outputs": [],
   "source": [
    "%load_ext lab_black\n",
    "%matplotlib inline\n",
    "\n",
    "import numpy as np\n",
    "import pandas as pd\n",
    "import matplotlib.pyplot as plt\n",
    "from torchvision import transforms\n",
    "from PIL import Image\n",
    "from tqdm import tqdm as tqdm\n",
    "import seaborn as sns\n",
    "\n",
    "sns.set_style(\"whitegrid\", {\"axes.grid\": False})\n",
    "\n",
    "ETA = 2.1\n",
    "BETA = 1"
   ]
  },
  {
   "cell_type": "markdown",
   "metadata": {},
   "source": [
    "### Import image"
   ]
  },
  {
   "cell_type": "code",
   "execution_count": null,
   "metadata": {},
   "outputs": [],
   "source": [
    "impath = \"images/markov.jpg\"\n",
    "\n",
    "im = Image.open(impath)\n",
    "im = transforms.Resize(100)(\n",
    "    transforms.RandomHorizontalFlip(1)(\n",
    "        transforms.RandomVerticalFlip(1)(transforms.Grayscale()(im))\n",
    "    )\n",
    ")\n",
    "\n",
    "im_tensor = transforms.ToTensor()(im)\n",
    "im_array = im_tensor.numpy().reshape(im_tensor.shape[1], im_tensor.shape[2])\n",
    "y = np.where(im_array > 0.4, 1, -1)\n",
    "plt.imshow(y)"
   ]
  },
  {
   "cell_type": "code",
   "execution_count": null,
   "metadata": {},
   "outputs": [],
   "source": [
    "for row in tqdm(range(y.shape[0])):\n",
    "    for col in range(y.shape[1]):\n",
    "        switch = np.random.binomial(1, 0.1)\n",
    "        if switch:\n",
    "            y[row, col] *= -1\n",
    "\n",
    "x = y.copy()"
   ]
  },
  {
   "cell_type": "code",
   "execution_count": null,
   "metadata": {},
   "outputs": [],
   "source": [
    "plt.imshow(y)"
   ]
  },
  {
   "cell_type": "markdown",
   "metadata": {},
   "source": [
    "### step1: calculate the total energy"
   ]
  },
  {
   "cell_type": "code",
   "execution_count": null,
   "metadata": {},
   "outputs": [],
   "source": [
    "def calculate_total_energy(x, y):\n",
    "    energy = 0\n",
    "    energy += -ETA * (x * y).sum()\n",
    "    energy += -BETA * (x[:-1, :] * x[1:, :]).sum()\n",
    "    energy += -BETA * (x[:, :-1] * x[:, 1:]).sum()\n",
    "    return energy"
   ]
  },
  {
   "cell_type": "code",
   "execution_count": null,
   "metadata": {},
   "outputs": [],
   "source": [
    "def set_best_state(x, y, row, col):\n",
    "    energies = []\n",
    "    STATES = [-1, 1]\n",
    "    for state in STATES:\n",
    "        x[row, col] = state\n",
    "        energies.append(calculate_total_energy(x, y))\n",
    "    best_state = STATES[np.argmin(energies)]\n",
    "    x[row, col] = best_state"
   ]
  },
  {
   "cell_type": "code",
   "execution_count": null,
   "metadata": {},
   "outputs": [],
   "source": [
    "energies = [calculate_total_energy(x, y)]\n",
    "num_rounds = 0\n",
    "delta_energy = 1\n",
    "while delta_energy:\n",
    "    for row in tqdm(range(x.shape[0])):\n",
    "        for col in range(x.shape[1]):\n",
    "            set_best_state(x, y, row, col)\n",
    "    energies.append(calculate_total_energy(x, y))\n",
    "    delta_energy = energies[-1] - energies[-2]\n",
    "    num_rounds += 1\n",
    "    if num_rounds == 100:\n",
    "        break\n",
    "    if num_rounds % 10 == 0:\n",
    "        print(num_rounds)"
   ]
  },
  {
   "cell_type": "code",
   "execution_count": null,
   "metadata": {},
   "outputs": [],
   "source": [
    "pd.DataFrame({\"energy\": energies}).reset_index().rename(\n",
    "    {\"index\": \"n_epoch\"}, axis=1\n",
    ").set_index(\"n_epoch\").plot(figsize=(12, 8))"
   ]
  },
  {
   "cell_type": "markdown",
   "metadata": {},
   "source": [
    "### Observed image"
   ]
  },
  {
   "cell_type": "code",
   "execution_count": null,
   "metadata": {},
   "outputs": [],
   "source": [
    "plt.imshow(y)"
   ]
  },
  {
   "cell_type": "markdown",
   "metadata": {},
   "source": [
    "### Reconstructed image"
   ]
  },
  {
   "cell_type": "code",
   "execution_count": null,
   "metadata": {},
   "outputs": [],
   "source": [
    "plt.imshow(x)"
   ]
  },
  {
   "cell_type": "code",
   "execution_count": null,
   "metadata": {},
   "outputs": [],
   "source": []
  }
 ],
 "metadata": {
  "kernelspec": {
   "display_name": "Python 3",
   "language": "python",
   "name": "python3"
  },
  "language_info": {
   "codemirror_mode": {
    "name": "ipython",
    "version": 3
   },
   "file_extension": ".py",
   "mimetype": "text/x-python",
   "name": "python",
   "nbconvert_exporter": "python",
   "pygments_lexer": "ipython3",
   "version": "3.7.3"
  }
 },
 "nbformat": 4,
 "nbformat_minor": 2
}
